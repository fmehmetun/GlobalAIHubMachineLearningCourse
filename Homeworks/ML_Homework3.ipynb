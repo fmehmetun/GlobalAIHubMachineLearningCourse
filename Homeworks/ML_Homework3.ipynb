{
 "cells": [
  {
   "cell_type": "markdown",
   "metadata": {
    "id": "LeSxH2p71hE_"
   },
   "source": [
    "## Homework 3\n",
    "\n",
    "* sklearn.datasets sınıfında \"make_classification\" fonksiyonunu kullanarak veri kümesi oluşturun. Tek etiket (y) 9 özellik (X) ile 10000 örnek oluşturun. Ayrıca şu parametreleri kullanın: \n",
    "    * `n_informative` = 4\n",
    "    *  `class_sep` = 2\n",
    "    * `random_state` = 18\n",
    "* Ham veriyi inceleyin ve analiz edin.\n",
    "* Sınıflandırma (classification) için ön işlem yapın.\n",
    "* Veri kümenizi eğitim ve test alt kümlerine ayırın (eğitim için 0.7 ve test için 0.3 oran olacak şekilde).\n",
    "* Karar Ağacı ve XGBoost Algoritmasını farklı hiperparametrelerle deneyin. (GridSearchCV kullanabilirisiniz.)\n",
    "* Sonucunuzu hem eğitim hem de test setinde değerlendirin. Herhangi bir yetersiz uyum (underfitting) veya aşırı uyum (overfitting) sorunu olup olmadığını analiz edin ve yorumlayın."
   ]
  },
  {
   "cell_type": "code",
   "execution_count": null,
   "metadata": {
    "id": "e4vcrjaL1hFK"
   },
   "outputs": [],
   "source": [
    "# Gerekli kitaplıkları içe aktarın."
   ]
  },
  {
   "cell_type": "code",
   "execution_count": null,
   "metadata": {
    "id": "CC3DSbYZ1hFL"
   },
   "outputs": [],
   "source": [
    "# Sklearn'de make_classification fonksiyonunu kullanarak veri kümesi oluşturun.\n",
    "# Pandas veri çerçevesine dönüştürün."
   ]
  },
  {
   "cell_type": "code",
   "execution_count": null,
   "metadata": {
    "id": "33bwR0FZ1hFL"
   },
   "outputs": [],
   "source": [
    "# Yinelenen satırları ve eksik verileri kontrol edin."
   ]
  },
  {
   "cell_type": "code",
   "execution_count": null,
   "metadata": {
    "id": "i7pgkDqx1hFM"
   },
   "outputs": [],
   "source": [
    "# Her özellik için verileri görselleştirin (pairplot, distplot etc.)."
   ]
  },
  {
   "cell_type": "code",
   "execution_count": null,
   "metadata": {
    "id": "IZnN7ISP1hFM"
   },
   "outputs": [],
   "source": [
    "# Korelasyon matrisi çizin."
   ]
  },
  {
   "cell_type": "code",
   "execution_count": null,
   "metadata": {
    "id": "jirBAqpP1hFM"
   },
   "outputs": [],
   "source": [
    "# Aykırı değerleri işleyin (IsolationForest, Z-score, IQR kullanabilirsiniz)"
   ]
  },
  {
   "cell_type": "code",
   "execution_count": null,
   "metadata": {
    "id": "OWxHleiK1hFM"
   },
   "outputs": [],
   "source": [
    "# Veri kümesini eğitim ve test verisetlerine ayırın."
   ]
  },
  {
   "cell_type": "code",
   "execution_count": null,
   "metadata": {
    "id": "phwFv2mX1hFN"
   },
   "outputs": [],
   "source": [
    "# Karar Ağacını içe aktarın, farklı hiperparametreleri deneyerek algoritmayı ayarlayın. (hyperpara)"
   ]
  },
  {
   "cell_type": "code",
   "execution_count": null,
   "metadata": {
    "id": "XMoW2J-s1hFN"
   },
   "outputs": [],
   "source": [
    "# Öznitelik önemlerini (feature importances) görselleştirin."
   ]
  },
  {
   "cell_type": "code",
   "execution_count": null,
   "metadata": {
    "id": "1ml8mv431hFN"
   },
   "outputs": [],
   "source": [
    "# Hata matrisini oluşturun ve accuracy, recall, precision ve f1-score değerlerini hesaplayın."
   ]
  },
  {
   "cell_type": "code",
   "execution_count": null,
   "metadata": {
    "id": "uPoKe_641hFN"
   },
   "outputs": [],
   "source": [
    "# XGBoostClassifier'ı içe aktarın, farklı hiperparametreleri deneyerek algoritmayı ayarlayın."
   ]
  },
  {
   "cell_type": "code",
   "execution_count": null,
   "metadata": {
    "id": "Jn89xQic1hFO"
   },
   "outputs": [],
   "source": [
    "# Öznitelik önemlerini (feature importances) görselleştirin."
   ]
  },
  {
   "cell_type": "code",
   "execution_count": null,
   "metadata": {
    "id": "3aqlPtJP1hFO"
   },
   "outputs": [],
   "source": [
    "# Hata matrisini oluşturun ve accuracy, recall, precision ve f1-score değerlerini hesaplayın."
   ]
  },
  {
   "cell_type": "code",
   "execution_count": null,
   "metadata": {
    "id": "sKq6RZL51hFO"
   },
   "outputs": [],
   "source": [
    "# Sonucunuzu değerlendirin ve veri setimiz için en iyi performans gösteren algoritmayı seçin."
   ]
  }
 ],
 "metadata": {
  "colab": {
   "name": "ML_Homework3.ipynb",
   "provenance": []
  },
  "kernelspec": {
   "display_name": "Python 3",
   "language": "python",
   "name": "python3"
  },
  "language_info": {
   "codemirror_mode": {
    "name": "ipython",
    "version": 3
   },
   "file_extension": ".py",
   "mimetype": "text/x-python",
   "name": "python",
   "nbconvert_exporter": "python",
   "pygments_lexer": "ipython3",
   "version": "3.7.3"
  }
 },
 "nbformat": 4,
 "nbformat_minor": 4
}
