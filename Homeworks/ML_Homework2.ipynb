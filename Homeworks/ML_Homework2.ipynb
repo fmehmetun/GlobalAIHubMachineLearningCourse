{
 "cells": [
  {
   "cell_type": "markdown",
   "metadata": {
    "id": "1NIXK0f_vCQD"
   },
   "source": [
    "## Homework 2\n",
    "\n",
    "* Sklearn veri kümelerinden Şeker Hastalığı (Diabetes) Veri Kümesini içe aktarın.\n",
    "* Ham veriyi inceleyin ve analiz edin.\n",
    "* Regresyon uygulaması için ön işleme yapın.\n",
    "* Veri kümenizi eğitim ve test alt kümlerine ayırın (eğitim için 0.7 ve test için 0.3 oran olacak şekilde).\n",
    "* Ridge ve Lasso Regression modellerini, her biri için en az 5 farklı alfa değeri olacak şekilde deneyin.\n",
    "* Tüm modellerin sonuçlarını değerlendirin ve en iyi performans gösteren modeli seçin."
   ]
  },
  {
   "cell_type": "code",
   "execution_count": null,
   "metadata": {
    "id": "RdGO-BoTvCQI"
   },
   "outputs": [],
   "source": [
    "# Şeker Hastalığı Veri Kümesini içe aktarın"
   ]
  },
  {
   "cell_type": "code",
   "execution_count": null,
   "metadata": {
    "id": "afUfYkDpvCQJ"
   },
   "outputs": [],
   "source": [
    "# Yinelenen değerleri ve eksik verileri kontrol edin"
   ]
  },
  {
   "cell_type": "code",
   "execution_count": null,
   "metadata": {
    "id": "MNC85pCRvCQJ"
   },
   "outputs": [],
   "source": [
    "# Her özellik için verileri görselleştirin (pairplot, distplot)"
   ]
  },
  {
   "cell_type": "code",
   "execution_count": null,
   "metadata": {
    "id": "2fWq7aoBvCQK"
   },
   "outputs": [],
   "source": [
    "# Korelasyon matrisini bastırın ve yorumlayın"
   ]
  },
  {
   "cell_type": "code",
   "execution_count": null,
   "metadata": {
    "id": "YI8ynwGovCQK"
   },
   "outputs": [],
   "source": [
    "# İlişkili bulduğunuz özellikleri eleyin (korelasyon matrisini kontrol ederek)"
   ]
  },
  {
   "cell_type": "code",
   "execution_count": null,
   "metadata": {
    "id": "69u__2hKvCQK"
   },
   "outputs": [],
   "source": [
    "# Aykırı değerleri işleyin (IsolationForest kullanabilirsiniz)"
   ]
  },
  {
   "cell_type": "code",
   "execution_count": null,
   "metadata": {
    "id": "hPLeS7TevCQK"
   },
   "outputs": [],
   "source": [
    "# Özellikleri ölçekleyin. (scaling)"
   ]
  },
  {
   "cell_type": "code",
   "execution_count": null,
   "metadata": {
    "id": "-dmoOtbcvCQL"
   },
   "outputs": [],
   "source": [
    "# Veri kümesini eğitim ve test verisetlerine ayırın."
   ]
  },
  {
   "cell_type": "code",
   "execution_count": null,
   "metadata": {
    "id": "OQUy3TKOvCQL"
   },
   "outputs": [],
   "source": [
    "# Lasso ve Rdige modellerini Sklearn'dan içe aktarın."
   ]
  },
  {
   "cell_type": "code",
   "execution_count": null,
   "metadata": {
    "id": "oK0kuF-uvCQL"
   },
   "outputs": [],
   "source": [
    "# Lasso için 5 farklı alfa değeri tanımlayın ve modelleri eğitin. R^2 değerlerini \n",
    "# hem eğitim hem de test verisetleri için yazdırın."
   ]
  },
  {
   "cell_type": "code",
   "execution_count": null,
   "metadata": {
    "id": "r_kpW-atvCQL"
   },
   "outputs": [],
   "source": [
    "# Ridge için 5 farklı alfa değeri tanımlayın ve modelleri eğitin. R^2 değerlerini \n",
    "# hem eğitim hem de test verisetleri için yazdırın."
   ]
  },
  {
   "cell_type": "code",
   "execution_count": null,
   "metadata": {
    "id": "BEWFg32evCQM"
   },
   "outputs": [],
   "source": [
    "# Sonuçlar hakkında yorum yapın. En iyi modelin katsayısını yazdırın."
   ]
  }
 ],
 "metadata": {
  "colab": {
   "name": "ML_Homework2.ipynb",
   "provenance": []
  },
  "kernelspec": {
   "display_name": "Python 3",
   "language": "python",
   "name": "python3"
  },
  "language_info": {
   "codemirror_mode": {
    "name": "ipython",
    "version": 3
   },
   "file_extension": ".py",
   "mimetype": "text/x-python",
   "name": "python",
   "nbconvert_exporter": "python",
   "pygments_lexer": "ipython3",
   "version": "3.7.3"
  }
 },
 "nbformat": 4,
 "nbformat_minor": 4
}
